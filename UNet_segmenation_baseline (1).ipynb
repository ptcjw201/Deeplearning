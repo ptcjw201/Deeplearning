{
  "cells": [
    {
      "cell_type": "markdown",
      "metadata": {
        "id": "Q6Xv2PsYlv9e"
      },
      "source": [
        ""
      ]
    },
    {
      "cell_type": "code",
      "execution_count": null,
      "metadata": {
        "colab": {
          "base_uri": "https://localhost:8080/"
        },
        "id": "YQczGyVLWDHp",
        "outputId": "c488a643-57fc-4a36-a220-6b2d6b9c4cd1"
      },
      "outputs": [
        {
          "output_type": "stream",
          "name": "stdout",
          "text": [
            "Mounted at /content/drive\n"
          ]
        }
      ],
      "source": [
        "from google.colab import drive\n",
        "drive.mount('/content/drive', force_remount=True)"
      ]
    },
    {
      "cell_type": "code",
      "execution_count": null,
      "metadata": {
        "colab": {
          "base_uri": "https://localhost:8080/"
        },
        "id": "Vf2A9swWlwIq",
        "outputId": "57f45343-7d7f-49ca-9952-602846e5f226"
      },
      "outputs": [
        {
          "name": "stdout",
          "output_type": "stream",
          "text": [
            "/content/drive/MyDrive/cow\n"
          ]
        }
      ],
      "source": [
        "%cd \"/content/drive/MyDrive/cow\""
      ]
    },
    {
      "cell_type": "code",
      "execution_count": null,
      "metadata": {
        "colab": {
          "base_uri": "https://localhost:8080/"
        },
        "id": "ITfmgvOKl6N0",
        "outputId": "d1e783ff-123b-4ae5-dd96-bfde23c8109c"
      },
      "outputs": [
        {
          "name": "stdout",
          "output_type": "stream",
          "text": [
            "sample_data\n"
          ]
        }
      ],
      "source": [
        "!dir"
      ]
    },
    {
      "cell_type": "markdown",
      "source": [
        "#이미지 전처리, Google Drive에 업로드"
      ],
      "metadata": {
        "id": "w2NE2fwA9ECP"
      }
    },
    {
      "cell_type": "markdown",
      "source": [
        "# Train, Val, Test 데이터 압축 해제\n",
        "\n",
        "\n"
      ],
      "metadata": {
        "id": "xcIKDNdQok-M"
      }
    },
    {
      "cell_type": "code",
      "execution_count": null,
      "metadata": {
        "id": "B3_3cXbTkdmJ"
      },
      "outputs": [],
      "source": [
        "#Unzip contents to folder\n",
        "#!unzip \"/content/drive/MyDrive/cow/test.zip\" -d \"/content/drive/MyDrive/cow\""
      ]
    },
    {
      "cell_type": "code",
      "execution_count": null,
      "metadata": {
        "id": "Og3SF19Ukgrf"
      },
      "outputs": [],
      "source": [
        "#Unzip contents to folder\n",
        "#!unzip \"/content/drive/MyDrive/cow/train.zip\" -d \"/content/drive/MyDrive/cow/train\""
      ]
    },
    {
      "cell_type": "code",
      "execution_count": null,
      "metadata": {
        "id": "9ZN2TN2eklJA"
      },
      "outputs": [],
      "source": [
        "#Unzip contents to folder\n",
        "#!unzip \"/content/drive/MyDrive/cow/val.zip\" -d \"/content/drive/MyDrive/cow/val\""
      ]
    },
    {
      "cell_type": "code",
      "execution_count": null,
      "metadata": {
        "id": "cuj2BSQ5WxxO"
      },
      "outputs": [],
      "source": [
        "#!unzip \"/content/drive/MyDrive/cow/test1.zip\" -d \"/content/drive/MyDrive/cow/test1\""
      ]
    },
    {
      "cell_type": "code",
      "execution_count": null,
      "metadata": {
        "id": "4V2z64nTxSLG"
      },
      "outputs": [],
      "source": [
        "#!unzip \"/content/drive/MyDrive/cow/test1+.zip\" -d \"/content/drive/MyDrive/cow/test1+\""
      ]
    },
    {
      "cell_type": "code",
      "execution_count": null,
      "metadata": {
        "id": "2IRgjMm8zFqA"
      },
      "outputs": [],
      "source": [
        "#!unzip \"/content/drive/MyDrive/cow/test1++.zip\" -d \"/content/drive/MyDrive/cow/test1++\""
      ]
    },
    {
      "cell_type": "code",
      "source": [
        "#!unzip \"/content/drive/MyDrive/cow/test2.zip\" -d \"/content/drive/MyDrive/cow/test2\""
      ],
      "metadata": {
        "id": "WBPGOC0qL1ZF"
      },
      "execution_count": null,
      "outputs": []
    },
    {
      "cell_type": "code",
      "source": [
        "#!unzip \"/content/drive/MyDrive/cow/test3.zip\" -d \"/content/drive/MyDrive/cow/test3\""
      ],
      "metadata": {
        "id": "-BiUYRQcldS0"
      },
      "execution_count": null,
      "outputs": []
    },
    {
      "cell_type": "markdown",
      "source": [
        "#필요한 라이브러리 Import"
      ],
      "metadata": {
        "id": "o3HwmCaapHGr"
      }
    },
    {
      "cell_type": "code",
      "execution_count": null,
      "metadata": {
        "id": "oG8n278-kojZ"
      },
      "outputs": [],
      "source": [
        "import argparse\n",
        "\n",
        "import os\n",
        "import numpy as np\n",
        "\n",
        "import torch\n",
        "import torch.nn as nn\n",
        "import matplotlib.pyplot as plt\n",
        "\n",
        "from PIL import Image\n",
        "from torchvision import transforms, datasets\n",
        "from torch.utils.data import DataLoader, Dataset\n",
        "from torch.utils.tensorboard import SummaryWriter\n",
        "from torch.optim import lr_scheduler"
      ]
    },
    {
      "cell_type": "code",
      "execution_count": null,
      "metadata": {
        "id": "OVUvUiwEkrF-"
      },
      "outputs": [],
      "source": [
        "data_dir = \"/content/drive/MyDrive/cow\"\n",
        "ckpt_dir = \"/content/drive/MyDrive/cow/checkpoint_unet_less_param\"\n",
        "log_dir = \"/content/drive/MyDrive/cow/log\"\n",
        "early_ckpt_dir = \"/content/drive/MyDrive/cow/earlystop_unet_less_param\""
      ]
    },
    {
      "cell_type": "markdown",
      "source": [
        "##Dataset, Transform 정의"
      ],
      "metadata": {
        "id": "IhYosU7NpQ9g"
      }
    },
    {
      "cell_type": "code",
      "execution_count": null,
      "metadata": {
        "id": "eti1ndrmkuvO"
      },
      "outputs": [],
      "source": [
        "class Dataset(Dataset):\n",
        "  def __init__(self, data_dir, transform = None):\n",
        "    self.data_dir = data_dir\n",
        "    self.transform = transform\n",
        "\n",
        "    lst_data = os.listdir(self.data_dir)\n",
        "    lst_label = [f for f in lst_data if f.startswith('label')]\n",
        "    lst_input = [f for f in lst_data if f.startswith('input')]\n",
        "\n",
        "    lst_label.sort()\n",
        "    lst_input.sort()\n",
        "\n",
        "    self.lst_label = lst_label\n",
        "    self.lst_input = lst_input\n",
        "\n",
        "  def __len__(self):\n",
        "    return len(self.lst_label)\n",
        "\n",
        "  def __getitem__(self, index):\n",
        "    label = np.load(os.path.join(self.data_dir, self.lst_label[index]))\n",
        "    input = np.load(os.path.join(self.data_dir, self.lst_input[index]))\n",
        "\n",
        "    #normalize\n",
        "    label = label/255.0\n",
        "    input = input/255.0\n",
        "\n",
        "    if label.ndim == 2:\n",
        "      label = label[:, :, np.newaxis]\n",
        "      \n",
        "    if input.ndim == 2:\n",
        "      input = input[:, :, np.newaxis]\n",
        "\n",
        "    data = {'input' : input, 'label': label}\n",
        "  \n",
        "    if self.transform:\n",
        "      data = self.transform(data)\n",
        "    \n",
        "    return data\n"
      ]
    },
    {
      "cell_type": "code",
      "execution_count": null,
      "metadata": {
        "id": "wQxiXVDDk4tC"
      },
      "outputs": [],
      "source": [
        "class ToTensor(object):\n",
        "    def __call__(self, data):\n",
        "        label, input = data['label'], data['input']\n",
        "\n",
        "        label = label.transpose((2, 0, 1)).astype(np.float32)\n",
        "        input = input.transpose((2, 0, 1)).astype(np.float32)\n",
        "\n",
        "        data = {'label': torch.from_numpy(label), 'input': torch.from_numpy(input)}\n",
        "\n",
        "        return data\n",
        "class Normalization(object):\n",
        "  def __init__(self,mean=0.5, std = 0.5):\n",
        "    self.mean = mean\n",
        "    self.std = std\n",
        "\n",
        "  def __call__(self, data):\n",
        "    label, input = data['label'], data['input']\n",
        "    input = (input - self.mean) / self.std\n",
        "    data = {'label' : label, 'input' : input}\n",
        "    return data\n",
        "\n",
        "class RandomFlip(object):\n",
        "  def __call__(self,data):\n",
        "    label, input = data['label'], data['input']\n",
        "\n",
        "    if np.random.rand() > 0.5:\n",
        "      input = np.fliplr(input)\n",
        "      label = np.fliplr(label)\n",
        "\n",
        "    if np.random.rand() > 0.5:\n",
        "      input = np.flipud(input)\n",
        "      label = np.flipud(label)\n",
        "    \n",
        "    data = {'label' : label, 'input' : input} \n",
        "\n",
        "    return data\n"
      ]
    },
    {
      "cell_type": "markdown",
      "source": [
        "#UNet 구현"
      ],
      "metadata": {
        "id": "DpGd5u86pZdj"
      }
    },
    {
      "cell_type": "code",
      "execution_count": null,
      "metadata": {
        "id": "kWRq57cTk9o2"
      },
      "outputs": [],
      "source": [
        "## 네트워크 구축\n",
        "class UNet(nn.Module):\n",
        "    def __init__(self):\n",
        "        super(UNet, self).__init__()\n",
        "\n",
        "        def CBR2d(in_channels, out_channels, kernel_size=3, stride=1, padding=1, bias=True):\n",
        "            layers = []\n",
        "            layers += [nn.Conv2d(in_channels=in_channels, out_channels=out_channels,\n",
        "                                 kernel_size=kernel_size, stride=stride, padding=padding,\n",
        "                                 bias=bias)]\n",
        "            layers += [nn.BatchNorm2d(num_features=out_channels)]\n",
        "            layers += [nn.ReLU()]\n",
        "\n",
        "            cbr = nn.Sequential(*layers)\n",
        "\n",
        "            return cbr\n",
        "\n",
        "        # Contracting path\n",
        "        self.enc1_1 = CBR2d(in_channels=3, out_channels=64)\n",
        "        self.enc1_2 = CBR2d(in_channels=64, out_channels=64)\n",
        "\n",
        "        self.pool1 = nn.MaxPool2d(kernel_size=2)\n",
        "\n",
        "        self.enc2_1 = CBR2d(in_channels=64, out_channels=128)\n",
        "        self.enc2_2 = CBR2d(in_channels=128, out_channels=128)\n",
        "\n",
        "        self.pool2 = nn.MaxPool2d(kernel_size=2)\n",
        "\n",
        "        self.enc3_1 = CBR2d(in_channels=128, out_channels=256)\n",
        "        self.enc3_2 = CBR2d(in_channels=256, out_channels=256)\n",
        "\n",
        "        self.pool3 = nn.MaxPool2d(kernel_size=2)\n",
        "\n",
        "        self.enc4_1 = CBR2d(in_channels=256, out_channels=512)\n",
        "        self.enc4_2 = CBR2d(in_channels=512, out_channels=512)\n",
        "\n",
        "        self.pool4 = nn.MaxPool2d(kernel_size=2)\n",
        "\n",
        "        self.enc5_1 = CBR2d(in_channels=512, out_channels=1024)\n",
        "\n",
        "        # Expansive path\n",
        "        self.dec5_1 = CBR2d(in_channels=1024, out_channels=512)\n",
        "\n",
        "        self.unpool4 = nn.ConvTranspose2d(in_channels=512, out_channels=512,\n",
        "                                          kernel_size=2, stride=2, padding=0, bias=True)\n",
        "\n",
        "        self.dec4_2 = CBR2d(in_channels=2 * 512, out_channels=512)\n",
        "        self.dec4_1 = CBR2d(in_channels=512, out_channels=256)\n",
        "\n",
        "        self.unpool3 = nn.ConvTranspose2d(in_channels=256, out_channels=256,\n",
        "                                          kernel_size=2, stride=2, padding=0, bias=True)\n",
        "\n",
        "        self.dec3_2 = CBR2d(in_channels=2 * 256, out_channels=256)\n",
        "        self.dec3_1 = CBR2d(in_channels=256, out_channels=128)\n",
        "\n",
        "        self.unpool2 = nn.ConvTranspose2d(in_channels=128, out_channels=128,\n",
        "                                          kernel_size=2, stride=2, padding=0, bias=True)\n",
        "\n",
        "        self.dec2_2 = CBR2d(in_channels=2 * 128, out_channels=128)\n",
        "        self.dec2_1 = CBR2d(in_channels=128, out_channels=64)\n",
        "\n",
        "        self.unpool1 = nn.ConvTranspose2d(in_channels=64, out_channels=64,\n",
        "                                          kernel_size=2, stride=2, padding=0, bias=True)\n",
        "\n",
        "        self.dec1_2 = CBR2d(in_channels=2 * 64, out_channels=64)\n",
        "        self.dec1_1 = CBR2d(in_channels=64, out_channels=64)\n",
        "\n",
        "        self.fc = nn.Conv2d(in_channels=64, out_channels=1, kernel_size=1, stride=1, padding=0, bias=True)\n",
        "\n",
        "    def forward(self, x):\n",
        "        enc1_1 = self.enc1_1(x)\n",
        "        enc1_2 = self.enc1_2(enc1_1)\n",
        "        pool1 = self.pool1(enc1_2)\n",
        "\n",
        "        enc2_1 = self.enc2_1(pool1)\n",
        "        enc2_2 = self.enc2_2(enc2_1)\n",
        "        pool2 = self.pool2(enc2_2)\n",
        "\n",
        "        enc3_1 = self.enc3_1(pool2)\n",
        "        enc3_2 = self.enc3_2(enc3_1)\n",
        "        pool3 = self.pool3(enc3_2)\n",
        "\n",
        "        enc4_1 = self.enc4_1(pool3)\n",
        "        enc4_2 = self.enc4_2(enc4_1)\n",
        "        pool4 = self.pool4(enc4_2)\n",
        "\n",
        "        enc5_1 = self.enc5_1(pool4)\n",
        "        dec5_1 = self.dec5_1(enc5_1)\n",
        "\n",
        "        unpool4 = self.unpool4(dec5_1)\n",
        "        cat4 = torch.cat((unpool4, enc4_2), dim=1)\n",
        "        dec4_2 = self.dec4_2(cat4)\n",
        "        dec4_1 = self.dec4_1(dec4_2)\n",
        "\n",
        "        unpool3 = self.unpool3(dec4_1)\n",
        "        cat3 = torch.cat((unpool3, enc3_2), dim=1)\n",
        "        dec3_2 = self.dec3_2(cat3)\n",
        "        dec3_1 = self.dec3_1(dec3_2)\n",
        "\n",
        "        unpool2 = self.unpool2(dec3_1)\n",
        "        cat2 = torch.cat((unpool2, enc2_2), dim=1)\n",
        "        dec2_2 = self.dec2_2(cat2)\n",
        "        dec2_1 = self.dec2_1(dec2_2)\n",
        "\n",
        "        unpool1 = self.unpool1(dec2_1)\n",
        "        cat1 = torch.cat((unpool1, enc1_2), dim=1)\n",
        "        dec1_2 = self.dec1_2(cat1)\n",
        "        dec1_1 = self.dec1_1(dec1_2)\n",
        "\n",
        "        x = self.fc(dec1_1)\n",
        "\n",
        "        return x"
      ]
    },
    {
      "cell_type": "markdown",
      "source": [
        "##주요 파라미터 설정, GPU 사용 설정"
      ],
      "metadata": {
        "id": "___zb3Krpc1x"
      }
    },
    {
      "cell_type": "code",
      "execution_count": null,
      "metadata": {
        "id": "mYin1D7Kk_xk"
      },
      "outputs": [],
      "source": [
        "lr = 1e-3\n",
        "batch_size = 4\n",
        "num_epoch = 100\n",
        "\n",
        "device =  torch.device('cuda' if torch.cuda.is_available() else 'cpu')\n",
        "\n",
        "\n",
        "Model_name = \"cow_segmentation_unet_less_param\""
      ]
    },
    {
      "cell_type": "markdown",
      "source": [
        "##Utils"
      ],
      "metadata": {
        "id": "SezWxlYy8fV5"
      }
    },
    {
      "cell_type": "code",
      "execution_count": null,
      "metadata": {
        "id": "SSDcoQdLXGRZ"
      },
      "outputs": [],
      "source": [
        "def dice_coef_metric(pred, label):\n",
        "    intersection = 2.0 * (pred * label).sum()\n",
        "    union = pred.sum() + label.sum()\n",
        "    if pred.sum() == 0 and label.sum() == 0:\n",
        "        return 1.\n",
        "    return intersection / union\n",
        "def dice_coef_loss(pred, label):\n",
        "    smooth = 1.0\n",
        "    intersection = 2.0 * (pred * label).sum() + smooth\n",
        "    union = pred.sum() + label.sum() + smooth\n",
        "    return 1 - (intersection / union)\n",
        "def bce_dice_loss(pred, label):\n",
        "    dice_loss = dice_coef_loss(pred, label)\n",
        "    bce_loss = nn.BCELoss()(pred, label)\n",
        "    return dice_loss + bce_loss\n",
        "\n",
        "\n",
        "def IOU_Numpy(outputs: torch.Tensor, labels: torch.Tensor, reduction='mean', SMOOTH=1e-6):\n",
        "    \n",
        "    results = []\n",
        "\n",
        "    outputs = outputs.squeeze(1)\n",
        "    labels = labels.squeeze(1)\n",
        "    \n",
        "    outputs = outputs.to('cpu').detach().numpy()\n",
        "    labels = labels.to('cpu').detach().numpy()\n",
        "    \n",
        "    batch_size = labels.shape[0]\n",
        "    for batch in range(batch_size):\n",
        "        t, p = labels[batch], outputs[batch]\n",
        "        true = np.sum(t)\n",
        "        pred = np.sum(p)\n",
        "        \n",
        "        # non empty mask case.  Union is never empty \n",
        "        # hence it is safe to divide by its number of pixels\n",
        "        intersection = np.sum(t * p)\n",
        "        union = true + pred - intersection\n",
        "        #iou = (intersection + SMOOTH) / (union + SMOOTH)\n",
        "        iou = intersection / union        \n",
        "        results.append(iou)\n",
        "\n",
        "    if reduction == 'mean':\n",
        "        return np.mean(results)  # Or thresholded.mean() if you are interested in average across the batch\n",
        "    else:\n",
        "        return results   "
      ]
    },
    {
      "cell_type": "markdown",
      "source": [
        "#EarlyStopping 구현"
      ],
      "metadata": {
        "id": "LM4G0FKQ8iyi"
      }
    },
    {
      "cell_type": "code",
      "execution_count": null,
      "metadata": {
        "id": "wrlCy9svfzS-"
      },
      "outputs": [],
      "source": [
        "class EarlyStopping:\n",
        "    def __init__(self, patience=7, verbose=False, counter=0, best_score = None, val_loss_min = np.inf, delta=0, path='checkpoint.pt'):\n",
        "        self.patience = patience\n",
        "        self.verbose = verbose\n",
        "        self.counter = counter\n",
        "        self.best_score = best_score\n",
        "        self.early_stop = False\n",
        "        self.val_loss_min = val_loss_min\n",
        "        self.delta = delta\n",
        "        self.path = path\n",
        "\n",
        "    def __call__(self, val_loss, models_dict):\n",
        "\n",
        "        score = -val_loss\n",
        "\n",
        "        if self.best_score is None:\n",
        "            self.best_score = score\n",
        "            self.save_checkpoint(val_loss, models_dict)\n",
        "        elif score < self.best_score + self.delta:\n",
        "            self.counter += 1\n",
        "            print(f'EarlyStopping counter: {self.counter} out of {self.patience}')\n",
        "            if self.counter >= self.patience:\n",
        "                self.early_stop = True\n",
        "        else:\n",
        "            self.best_score = score\n",
        "            self.save_checkpoint(val_loss, models_dict)\n",
        "            self.counter = 0\n",
        "\n",
        "    def save_checkpoint(self, val_loss, models_dict):\n",
        "        if self.verbose:\n",
        "            print(f'Validation loss decreased ({self.val_loss_min:.6f} --> {val_loss:.6f}).  Saving model ...')\n",
        "        for file_name in models_dict.keys():\n",
        "            torch.save(models_dict[file_name], self.path + \"/\" + file_name + \".pkl\")\n",
        "        self.val_loss_min = val_loss\n"
      ]
    },
    {
      "cell_type": "markdown",
      "source": [
        "#Train, save model"
      ],
      "metadata": {
        "id": "-Vn0PYxT8pZi"
      }
    },
    {
      "cell_type": "code",
      "execution_count": null,
      "metadata": {
        "id": "DEhheU2ClBmG"
      },
      "outputs": [],
      "source": [
        "#Train net\n",
        "transform = transforms.Compose([Normalization(mean = 0.5, std = 0.5), RandomFlip(), ToTensor()])\n",
        "\n",
        "dataset_train = Dataset(data_dir=os.path.join(data_dir, 'train'),transform = transform)\n",
        "loader_train = DataLoader(dataset_train, batch_size = batch_size, shuffle =True, num_workers = 2)\n",
        "dataset_val = Dataset(data_dir = os.path.join(data_dir, 'val'), transform = transform)\n",
        "loader_val = DataLoader(dataset_val, batch_size = batch_size, shuffle = False, num_workers =2)\n",
        "\n",
        "net = UNet().to(device)\n",
        "fn_loss = nn.BCEWithLogitsLoss().to(device)\n",
        "optim = torch.optim.Adam(net.parameters(), lr= lr)\n",
        "\n",
        "#New Line\n",
        "optimizer_scheduler = lr_scheduler.ReduceLROnPlateau(optimizer = optim, mode = \"min\", factor = 0.5, patience = 5, verbose = True)\n",
        "\n",
        "num_data_train = len(dataset_train)\n",
        "num_data_val = len(dataset_val)\n",
        "\n",
        "num_batch_train = np.ceil(num_data_train / batch_size)\n",
        "num_batch_val = np.ceil(num_data_val / batch_size)\n",
        "\n",
        "##function 설정\n",
        "fn_tonumpy = lambda x:x.to('cpu').detach().numpy().transpose(0,2,3,1)\n",
        "fn_denorm = lambda x, mean, std : (x * std) + mean\n",
        "fn_class = lambda x: 1.0 * (x>0.5)\n",
        "\n",
        "##TensorBoard 사용\n",
        "writer_train = SummaryWriter(log_dir = os.path.join(log_dir, 'train'))\n",
        "writer_val = SummaryWriter(log_dir = os.path.join(log_dir, 'val'))\n",
        "\n",
        "\n",
        "##네트워크 저장\n",
        "def save(ckpt_dir, net, optim, epoch):\n",
        "    if not os.path.exists(ckpt_dir):\n",
        "        os.makedirs(ckpt_dir)\n",
        "    torch.save({'net': net.state_dict(), 'optim': optim.state_dict(), 'es_counter': early_stopping.counter, 'v_loss_min' : early_stopping.val_loss_min, 'best_score' : early_stopping.best_score},\"%s/model_epoch%d.pth\" % (ckpt_dir, epoch))\n",
        "\n",
        "##네트워크 호출\n",
        "def load(ckpt_dir, net, optim):\n",
        "    if not os.path.exists(ckpt_dir):\n",
        "        epoch = 0\n",
        "        return net, optim, epoch, 0, None, np.inf\n",
        "\n",
        "    ckpt_lst = os.listdir(ckpt_dir)\n",
        "    print(ckpt_lst)\n",
        "    ckpt_lst.sort(key=lambda f: int(''.join(filter(str.isdigit, f))))\n",
        "    dict_model = torch.load('%s/%s' % (ckpt_dir, ckpt_lst[-1]))\n",
        "\n",
        "    net.load_state_dict(dict_model['net'])\n",
        "    optim.load_state_dict(dict_model['optim'])\n",
        "    epoch = int(ckpt_lst[-1].split('epoch')[1].split('.pth')[0])\n",
        "    es_counter = dict_model['es_counter']\n",
        "    best_score = dict_model['best_score']\n",
        "    v_loss_min = dict_model['v_loss_min']\n",
        "\n",
        "    return net, optim, epoch, es_counter, best_score, v_loss_min \n",
        "\n",
        "#네트워크 학습\n",
        "st_epoch = 0\n",
        "st_es_counter = 0\n",
        "st_best_score = None\n",
        "st_val_min_loss = np.inf\n",
        "#학습된게 있다면 거기서 부터 진행함\n",
        "net, optim, st_epoch, st_es_counter, st_best_score, st_val_min_loss = load(ckpt_dir = ckpt_dir, net = net, optim = optim)\n",
        "early_stopping = EarlyStopping(patience=15, verbose=True, counter = st_es_counter, best_score = st_best_score, val_loss_min = st_val_min_loss, path=early_ckpt_dir)\n",
        "print(\"Train starts from : Epoch %04d / %04d | EarlyStopping Counter %04d / %04d\"% (st_epoch, num_epoch, st_es_counter, early_stopping.patience))\n",
        "\n",
        "\n",
        "for epoch in range(st_epoch + 1, num_epoch+1):\n",
        "    net.train()  #net가 train이라는 것을 알려줌\n",
        "    loss_arr = []\n",
        "    train_iou_arr = []\n",
        "    for batch, data in enumerate(loader_train, 1):\n",
        "        #forward pass\n",
        "        label = data['label'].to(device)\n",
        "        input = data['input'].to(device)\n",
        "        output = net(input)\n",
        "        \n",
        "        print(output.shape)\n",
        "        print(label.shape)\n",
        "\n",
        "        #backward pass\n",
        "        optim.zero_grad()\n",
        "        loss = fn_loss(output, label)\n",
        "        loss.backward()\n",
        "        optim.step()\n",
        "\n",
        "        #loss function cal\n",
        "        loss_arr += [loss.item()]\n",
        "        train_iou_arr += [IOU_Numpy(fn_class(output), label)]\n",
        "        print(\"Train : Epoch %04d / %04d | Batch %04d / %04d | LOSS %.4f | IOU_MEAN %.4f\"%\n",
        "        (epoch, num_epoch, batch, num_batch_train, np.mean(loss_arr), np.mean(train_iou_arr)))\n",
        "\n",
        "        #TensorBoard 저장\n",
        "        label = fn_tonumpy(label)\n",
        "        input = fn_tonumpy(fn_denorm(input, mean = 0.5, std = 0.5))\n",
        "        output = fn_tonumpy(fn_class(output))\n",
        "\n",
        "        writer_train.add_image('label', label, num_batch_train * (epoch - 1) + batch, dataformats = 'NHWC')\n",
        "        writer_train.add_image('input', input, num_batch_train * (epoch - 1) + batch, dataformats = 'NHWC')\n",
        "        writer_train.add_image('output', output, num_batch_train * (epoch - 1) + batch, dataformats = 'NHWC')\n",
        "    writer_train.add_scalar('loss', np.mean(loss_arr), epoch)\n",
        "\n",
        "\n",
        "    with torch.no_grad():\n",
        "        net.eval() #validate 과정 명시\n",
        "        loss_arr = []\n",
        "        #New line\n",
        "        val_iou_arr = []\n",
        "        for batch, data in enumerate(loader_val, 1):\n",
        "            #forward pass\n",
        "            label = data['label'].to(device)\n",
        "            input = data['input'].to(device)\n",
        "            output = net(input)\n",
        "            #val은 backward 필요없음\n",
        "            #손실함수\n",
        "            loss = fn_loss(output, label)\n",
        "            loss_arr += [loss.item()]\n",
        "            val_iou_arr += [IOU_Numpy(fn_class(output), label)]\n",
        "            #New line\n",
        "            print(\"Valid : Epoch %04d / %04d | Batch %04d / %04d | LOSS %.4f | IOU_MEAN %.4f\"%\n",
        "            (epoch, num_epoch, batch, num_batch_val, np.mean(loss_arr), np.mean(val_iou_arr)))\n",
        "\n",
        "            #Tensorboard 저장\n",
        "            label = fn_tonumpy(label)\n",
        "            input = fn_tonumpy(fn_denorm(input, mean = 0.5, std = 0.5))\n",
        "            output = fn_tonumpy(fn_class(output))\n",
        "                \n",
        "            writer_val.add_image('label', label, num_batch_val * (epoch - 1) + batch, dataformats = 'NHWC')\n",
        "            writer_val.add_image('input', input, num_batch_val * (epoch - 1) + batch, dataformats = 'NHWC')\n",
        "            writer_val.add_image('output', output, num_batch_val * (epoch - 1) + batch, dataformats = 'NHWC')\n",
        "\n",
        "    #New Line\n",
        "    #Optimizer update\n",
        "    optimizer_scheduler.step(1-np.mean(val_iou_arr))\n",
        "    writer_val.add_scalar('loss', np.mean(loss_arr), epoch)\n",
        "    \n",
        "    save(ckpt_dir = ckpt_dir, net= net, optim = optim, epoch = epoch)\n",
        "\n",
        "    writer_train.close()\n",
        "    writer_val.close()\n",
        "\n",
        "    #Early Stopping\n",
        "    models_dict = dict()\n",
        "    models_dict[Model_name] = net.state_dict()\n",
        "    early_stopping(1 - np.mean(val_iou_arr), models_dict)\n",
        "    \n",
        "    state_dict = torch.load(early_ckpt_dir + '/' + Model_name + \".pkl\", map_location=device)\n",
        "    # Early stopping patient가 초과되면 멈춤\n",
        "    if early_stopping.early_stop:\n",
        "        break\n",
        "\n",
        "print(\"done!\")\n",
        "\n",
        "        "
      ]
    },
    {
      "cell_type": "markdown",
      "source": [
        "#Test, save results"
      ],
      "metadata": {
        "id": "DaBTHQL28xzA"
      }
    },
    {
      "cell_type": "code",
      "execution_count": null,
      "metadata": {
        "id": "bpHGmCoZZqNX"
      },
      "outputs": [],
      "source": [
        "#Test phase\n",
        "result_dir_img = '/content/drive/MyDrive/cow/result/img'\n",
        "result_dir_npy = '/content/drive/MyDrive/cow/result/npy'\n",
        "\n",
        "\n",
        "transform = transforms.Compose([Normalization(mean=0.5, std=0.5), ToTensor()])\n",
        "#모든 등급의 이미지에 대해 진행\n",
        "dataset_test = Dataset(data_dir = os.path.join(data_dir, 'test3'), transform = transform)\n",
        "loader_test = DataLoader(dataset_test, batch_size = batch_size, shuffle = False, num_workers =2)\n",
        "\n",
        "## 네트워크 생성하기\n",
        "net = UNet().to(device)\n",
        "\n",
        "## 손실함수 정의하기\n",
        "fn_loss = nn.BCEWithLogitsLoss().to(device)\n",
        "\n",
        "## Optimizer 설정하기\n",
        "optim = torch.optim.Adam(net.parameters(), lr=lr)\n",
        "print(len(dataset_test))\n",
        "## 그밖에 부수적인 variables 설정하기\n",
        "num_data_test = len(dataset_test)\n",
        "\n",
        "num_batch_test = np.ceil(num_data_test / batch_size)\n",
        "print(num_batch_test)\n",
        "## 그밖에 부수적인 functions 설정하기\n",
        "fn_tonumpy = lambda x: x.to('cpu').detach().numpy().transpose(0, 2, 3, 1)\n",
        "fn_denorm = lambda x, mean, std: (x * std) + mean\n",
        "fn_class = lambda x: 1.0 * (x > 0.5)\n",
        "##네트워크 저장\n",
        "def save(ckpt_dir, net, optim, epoch):\n",
        "    if not os.path.exists(ckpt_dir):\n",
        "        os.makedirs(ckpt_dir)\n",
        "    torch.save({'net': net.state_dict(), 'optim': optim.state_dict(), 'es_counter': early_stopping.counter, 'v_loss_min' : early_stopping.val_loss_min, 'best_score' : early_stopping.best_score},\"%s/model_epoch%d.pth\" % (ckpt_dir, epoch))\n",
        "\n",
        "##네트워크 호출\n",
        "def load(ckpt_dir, net, optim):\n",
        "    if not os.path.exists(ckpt_dir):\n",
        "        epoch = 0\n",
        "        return net, optim, epoch, 0, None, np.inf\n",
        "\n",
        "    ckpt_lst = os.listdir(ckpt_dir)\n",
        "    ckpt_lst.sort(key=lambda f: int(''.join(filter(str.isdigit, f))))\n",
        "    dict_model = torch.load('%s/%s' % (ckpt_dir, ckpt_lst[-1]))\n",
        "\n",
        "    net.load_state_dict(dict_model['net'])\n",
        "    optim.load_state_dict(dict_model['optim'])\n",
        "    epoch = int(ckpt_lst[-1].split('epoch')[1].split('.pth')[0])\n",
        "    es_counter = dict_model['es_counter']\n",
        "    best_score = dict_model['best_score']\n",
        "    v_loss_min = dict_model['v_loss_min']\n",
        "\n",
        "    return net, optim, epoch, es_counter, best_score, v_loss_min \n",
        "\n",
        "#네트워크 초기값\n",
        "st_epoch = 0\n",
        "st_es_counter = 0\n",
        "st_best_score = None\n",
        "st_val_min_loss = np.inf\n",
        "#학습된 net 호출\n",
        "net, optim, st_epoch, st_es_counter, st_best_score, st_val_min_loss = load(ckpt_dir = ckpt_dir, net = net, optim = optim)\n",
        "print(st_epoch, st_es_counter, st_best_score)\n",
        "with torch.no_grad():\n",
        "    net.eval()\n",
        "    loss_arr = []\n",
        "    test_iou_arr = []\n",
        "    for batch, data in enumerate(loader_test, 1):\n",
        "        # forward pass\n",
        "        label = data['label'].to(device)\n",
        "        input = data['input'].to(device)\n",
        "\n",
        "        output = net(input)\n",
        "\n",
        "        # 손실함수 계산하기\n",
        "        loss = fn_loss(output, label)\n",
        "\n",
        "        loss_arr += [loss.item()]\n",
        "        test_iou_arr += [IOU_Numpy(fn_class(output), label)]\n",
        "\n",
        "        print(\"TEST: BATCH %04d / %04d | LOSS %.4f | IOU_MEAN %.4f \"%\n",
        "              (batch, num_batch_test, np.mean(loss_arr), np.mean(test_iou_arr)))\n",
        "\n",
        "        # Tensorboard 저장하기\n",
        "        label = fn_tonumpy(label)\n",
        "        input = fn_tonumpy(fn_denorm(input, mean=0.5, std=0.5))\n",
        "        output = fn_tonumpy(fn_class(output))\n",
        "\n",
        "        for j in range(label.shape[0]):\n",
        "            id = (batch_size * (batch - 1) + j)\n",
        "            im_input = Image.fromarray((input[j] * 255).astype(np.uint8))\n",
        "            output_stack = np.concatenate((output[j],)*3, axis=-1)\n",
        "            im_output = Image.fromarray((output_stack * 255).astype(np.uint8))\n",
        "            im_input.save(os.path.join(result_dir_img, 'input_%04d.png' % id))\n",
        "            print('input_%04d.png' % id)\n",
        "            im_output.save(os.path.join(result_dir_npy, 'output_%04d.png' % id))\n",
        "            print('output_%04d.png' % id)\n",
        "\n",
        "print(\"AVERAGE TEST: BATCH %04d / %04d | LOSS %.4f | IOU_MEAN %.4f \" %\n",
        "      (batch, num_batch_test, np.mean(loss_arr) , np.mean(test_iou_arr)))\n"
      ]
    },
    {
      "cell_type": "markdown",
      "source": [
        "#Zip results"
      ],
      "metadata": {
        "id": "Lt3mO7pB81QC"
      }
    },
    {
      "cell_type": "code",
      "execution_count": null,
      "metadata": {
        "id": "cvq09VuNw9lF"
      },
      "outputs": [],
      "source": [
        "#!zip -r \"/content/drive/MyDrive/cow/result/img.zip\" \"/content/drive/MyDrive/cow/result\""
      ]
    }
  ],
  "metadata": {
    "accelerator": "GPU",
    "colab": {
      "collapsed_sections": [],
      "machine_shape": "hm",
      "name": "UNet_segmenation_baseline.ipynb",
      "provenance": []
    },
    "kernelspec": {
      "display_name": "Python 3",
      "name": "python3"
    },
    "language_info": {
      "name": "python"
    }
  },
  "nbformat": 4,
  "nbformat_minor": 0
}
